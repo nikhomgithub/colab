{
  "nbformat": 4,
  "nbformat_minor": 0,
  "metadata": {
    "colab": {
      "name": "Untitled29.ipynb",
      "provenance": [],
      "include_colab_link": true
    },
    "kernelspec": {
      "name": "python3",
      "display_name": "Python 3"
    },
    "accelerator": "GPU"
  },
  "cells": [
    {
      "cell_type": "markdown",
      "metadata": {
        "id": "view-in-github",
        "colab_type": "text"
      },
      "source": [
        "<a href=\"https://colab.research.google.com/github/nikhomgithub/colab/blob/master/basic_mnist.ipynb\" target=\"_parent\"><img src=\"https://colab.research.google.com/assets/colab-badge.svg\" alt=\"Open In Colab\"/></a>"
      ]
    },
    {
      "cell_type": "code",
      "metadata": {
        "id": "YN6zRSWMFreG",
        "colab_type": "code",
        "colab": {}
      },
      "source": [
        "import tensorflow as tf\n",
        "from tensorflow.keras.models import Sequential, load_model\n",
        "from tensorflow.keras.layers import Dense, Flatten\n",
        "from tensorflow.nn import relu,softmax\n",
        "from tensorflow.keras.utils import normalize\n",
        "import numpy as np\n",
        "import matplotlib.pyplot as plt\n",
        "import pickle\n",
        "from google.colab import files"
      ],
      "execution_count": 0,
      "outputs": []
    },
    {
      "cell_type": "markdown",
      "metadata": {
        "id": "GweJkbU0HhwF",
        "colab_type": "text"
      },
      "source": [
        "#get dataset"
      ]
    },
    {
      "cell_type": "code",
      "metadata": {
        "id": "htntA0ShHCHZ",
        "colab_type": "code",
        "colab": {}
      },
      "source": [
        "mnist=tf.keras.datasets.mnist\n",
        "(x_train,y_train),(x_test,y_test)=mnist.load_data()"
      ],
      "execution_count": 0,
      "outputs": []
    },
    {
      "cell_type": "code",
      "metadata": {
        "id": "KDVe_Y5rLOW5",
        "colab_type": "code",
        "colab": {
          "base_uri": "https://localhost:8080/",
          "height": 85
        },
        "outputId": "e9ae47c0-6136-4570-e9d2-cb223a1d53bc"
      },
      "source": [
        "print(x_train.shape)\n",
        "print(y_train.shape)\n",
        "print(x_test.shape)\n",
        "print(y_test.shape)"
      ],
      "execution_count": 238,
      "outputs": [
        {
          "output_type": "stream",
          "text": [
            "(60000, 28, 28)\n",
            "(60000,)\n",
            "(10000, 28, 28)\n",
            "(10000,)\n"
          ],
          "name": "stdout"
        }
      ]
    },
    {
      "cell_type": "code",
      "metadata": {
        "id": "sXWaAhjMJ44R",
        "colab_type": "code",
        "colab": {}
      },
      "source": [
        "x_train=normalize(x_train)\n",
        "x_test=normalize(x_test)"
      ],
      "execution_count": 0,
      "outputs": []
    },
    {
      "cell_type": "code",
      "metadata": {
        "id": "b9iUsC4kHWup",
        "colab_type": "code",
        "colab": {
          "base_uri": "https://localhost:8080/",
          "height": 34
        },
        "outputId": "28e8b4fe-ef21-415f-8ff1-8f2a91f43889"
      },
      "source": [
        "print(x_train[0].dtype)"
      ],
      "execution_count": 240,
      "outputs": [
        {
          "output_type": "stream",
          "text": [
            "float64\n"
          ],
          "name": "stdout"
        }
      ]
    },
    {
      "cell_type": "code",
      "metadata": {
        "id": "IyOwst7UHnkO",
        "colab_type": "code",
        "colab": {
          "base_uri": "https://localhost:8080/",
          "height": 265
        },
        "outputId": "87190ef5-566b-4066-ed3d-31c3da686e18"
      },
      "source": [
        "plt.imshow(x_train[0],cmap=plt.cm.binary)\n",
        "plt.show()"
      ],
      "execution_count": 241,
      "outputs": [
        {
          "output_type": "display_data",
          "data": {
            "image/png": "[encoded data removed]",
            "text/plain": [
              "<Figure size 432x288 with 1 Axes>"
            ]
          },
          "metadata": {
            "tags": []
          }
        }
      ]
    },
    {
      "cell_type": "code",
      "metadata": {
        "id": "D3zfhtKBiaT9",
        "colab_type": "code",
        "colab": {}
      },
      "source": [
        "pickle_out=open(\"x_test.pickle\",\"wb\")\n",
        "pickle.dump(x_test,pickle_out)\n",
        "pickle_out.close()\n",
        "\n",
        "pickle_in=open(\"x_test.pickle\",\"rb\")\n",
        "pickle.load(pickle_in)\n",
        "pickle_in.close()"
      ],
      "execution_count": 0,
      "outputs": []
    },
    {
      "cell_type": "code",
      "metadata": {
        "id": "8MqGge5VH5Nk",
        "colab_type": "code",
        "colab": {}
      },
      "source": [
        "#setup model\n",
        "model=Sequential()\n",
        "model.add(Flatten(input_shape=(28,28)))\n",
        "model.add(Dense(128,activation=relu))\n",
        "model.add(Dense(128,activation=relu))\n",
        "model.add(Dense(10,activation=softmax))\n",
        "model.compile(optimizer='adam',loss='sparse_categorical_crossentropy',metrics=['accuracy'])"
      ],
      "execution_count": 0,
      "outputs": []
    },
    {
      "cell_type": "code",
      "metadata": {
        "id": "5La7miruJDfp",
        "colab_type": "code",
        "colab": {
          "base_uri": "https://localhost:8080/",
          "height": 374
        },
        "outputId": "a1e906de-ecc9-4e31-c323-d6d185810db7"
      },
      "source": [
        "history=model.fit(x_train,y_train,epochs=10,validation_split=0.7)"
      ],
      "execution_count": 245,
      "outputs": [
        {
          "output_type": "stream",
          "text": [
            "Train on 18000 samples, validate on 42000 samples\n",
            "Epoch 1/10\n",
            "18000/18000 [==============================] - 4s 198us/sample - loss: 0.4504 - acc: 0.8709 - val_loss: 0.2444 - val_acc: 0.9255\n",
            "Epoch 2/10\n",
            "18000/18000 [==============================] - 3s 188us/sample - loss: 0.1828 - acc: 0.9447 - val_loss: 0.1828 - val_acc: 0.9465\n",
            "Epoch 3/10\n",
            "18000/18000 [==============================] - 3s 189us/sample - loss: 0.1229 - acc: 0.9621 - val_loss: 0.1571 - val_acc: 0.9534\n",
            "Epoch 4/10\n",
            "18000/18000 [==============================] - 3s 183us/sample - loss: 0.0917 - acc: 0.9717 - val_loss: 0.1526 - val_acc: 0.9540\n",
            "Epoch 5/10\n",
            "18000/18000 [==============================] - 3s 187us/sample - loss: 0.0668 - acc: 0.9794 - val_loss: 0.1557 - val_acc: 0.9544\n",
            "Epoch 6/10\n",
            "18000/18000 [==============================] - 3s 184us/sample - loss: 0.0515 - acc: 0.9842 - val_loss: 0.1608 - val_acc: 0.9538\n",
            "Epoch 7/10\n",
            "18000/18000 [==============================] - 3s 183us/sample - loss: 0.0407 - acc: 0.9868 - val_loss: 0.1478 - val_acc: 0.9597\n",
            "Epoch 8/10\n",
            "18000/18000 [==============================] - 3s 183us/sample - loss: 0.0273 - acc: 0.9921 - val_loss: 0.1502 - val_acc: 0.9609\n",
            "Epoch 9/10\n",
            "18000/18000 [==============================] - 3s 185us/sample - loss: 0.0229 - acc: 0.9933 - val_loss: 0.1677 - val_acc: 0.9588\n",
            "Epoch 10/10\n",
            "18000/18000 [==============================] - 3s 184us/sample - loss: 0.0154 - acc: 0.9958 - val_loss: 0.1665 - val_acc: 0.9610\n"
          ],
          "name": "stdout"
        }
      ]
    },
    {
      "cell_type": "code",
      "metadata": {
        "id": "0qi8X8HeLAkt",
        "colab_type": "code",
        "colab": {
          "base_uri": "https://localhost:8080/",
          "height": 289
        },
        "outputId": "d5c8ed02-fd7b-484e-c710-7df9416dad29"
      },
      "source": [
        "model.summary()"
      ],
      "execution_count": 246,
      "outputs": [
        {
          "output_type": "stream",
          "text": [
            "Model: \"sequential_11\"\n",
            "_________________________________________________________________\n",
            "Layer (type)                 Output Shape              Param #   \n",
            "=================================================================\n",
            "flatten_10 (Flatten)         (None, 784)               0         \n",
            "_________________________________________________________________\n",
            "dense_30 (Dense)             (None, 128)               100480    \n",
            "_________________________________________________________________\n",
            "dense_31 (Dense)             (None, 128)               16512     \n",
            "_________________________________________________________________\n",
            "dense_32 (Dense)             (None, 10)                1290      \n",
            "=================================================================\n",
            "Total params: 118,282\n",
            "Trainable params: 118,282\n",
            "Non-trainable params: 0\n",
            "_________________________________________________________________\n"
          ],
          "name": "stdout"
        }
      ]
    },
    {
      "cell_type": "code",
      "metadata": {
        "id": "JWC0LUhtLGSE",
        "colab_type": "code",
        "colab": {}
      },
      "source": [
        "#val_loss,val_acc=model.evaluate(x_test,y_test)"
      ],
      "execution_count": 0,
      "outputs": []
    },
    {
      "cell_type": "code",
      "metadata": {
        "id": "Un95jxb5XECK",
        "colab_type": "code",
        "colab": {}
      },
      "source": [
        "acc=np.array(history.history['acc'])\n",
        "val_acc=np.array(history.history['val_acc'])\n",
        "loss=np.array(history.history['loss'])\n",
        "val_los=np.array(history.history['val_loss'])\n",
        "epochs=np.array(range(len(acc)))"
      ],
      "execution_count": 0,
      "outputs": []
    },
    {
      "cell_type": "code",
      "metadata": {
        "id": "uGvn0AJOYYGM",
        "colab_type": "code",
        "colab": {
          "base_uri": "https://localhost:8080/",
          "height": 34
        },
        "outputId": "db05c4f0-9134-444c-9942-9645d6994f3f"
      },
      "source": [
        "print(acc.shape)"
      ],
      "execution_count": 249,
      "outputs": [
        {
          "output_type": "stream",
          "text": [
            "(10,)\n"
          ],
          "name": "stdout"
        }
      ]
    },
    {
      "cell_type": "code",
      "metadata": {
        "id": "yWNqKQtgYUFG",
        "colab_type": "code",
        "colab": {
          "base_uri": "https://localhost:8080/",
          "height": 34
        },
        "outputId": "dfe2c253-d311-4b3c-ba95-2678f3234650"
      },
      "source": [
        "print(epochs.shape)"
      ],
      "execution_count": 250,
      "outputs": [
        {
          "output_type": "stream",
          "text": [
            "(10,)\n"
          ],
          "name": "stdout"
        }
      ]
    },
    {
      "cell_type": "code",
      "metadata": {
        "id": "oA886wMGMIO1",
        "colab_type": "code",
        "colab": {
          "base_uri": "https://localhost:8080/",
          "height": 295
        },
        "outputId": "3e44c54c-f665-4911-9099-a2586d0ca1f0"
      },
      "source": [
        "#r is red\n",
        "plt.plot(epochs, acc,'r',label=\"Training acc\")\n",
        "#b is blue\n",
        "plt.plot(epochs,val_acc,'b',label=\"Validation acc\")\n",
        "\n",
        "plt.title(\"Training and Validation Acc\")\n",
        "plt.xlabel('Epochs')\n",
        "plt.ylabel('Acc')\n",
        "plt.show()"
      ],
      "execution_count": 251,
      "outputs": [
        {
          "output_type": "display_data",
          "data": {
            "image/png": "[encoded data removed]",
            "text/plain": [
              "<Figure size 432x288 with 1 Axes>"
            ]
          },
          "metadata": {
            "tags": []
          }
        }
      ]
    },
    {
      "cell_type": "code",
      "metadata": {
        "id": "QeA8G4UScqbu",
        "colab_type": "code",
        "colab": {}
      },
      "source": [
        "model.save('model01.model')"
      ],
      "execution_count": 0,
      "outputs": []
    },
    {
      "cell_type": "code",
      "metadata": {
        "id": "aNRAZF15eleC",
        "colab_type": "code",
        "colab": {}
      },
      "source": [
        "new_model=load_model('model01.model')"
      ],
      "execution_count": 0,
      "outputs": []
    },
    {
      "cell_type": "code",
      "metadata": {
        "id": "birthuXFdD7H",
        "colab_type": "code",
        "colab": {}
      },
      "source": [
        "prediction=new_model.predict([x_test])"
      ],
      "execution_count": 0,
      "outputs": []
    },
    {
      "cell_type": "code",
      "metadata": {
        "id": "lDjOuoZSdZLF",
        "colab_type": "code",
        "colab": {
          "base_uri": "https://localhost:8080/",
          "height": 51
        },
        "outputId": "02ebda93-8989-4d8d-da21-3fab8def0e62"
      },
      "source": [
        "print(prediction[0])"
      ],
      "execution_count": 255,
      "outputs": [
        {
          "output_type": "stream",
          "text": [
            "[6.8417934e-15 4.1617983e-11 5.0942645e-10 1.6816655e-08 9.2645379e-12\n",
            " 3.6737335e-15 3.9971514e-15 1.0000000e+00 1.0763698e-13 1.1616312e-09]\n"
          ],
          "name": "stdout"
        }
      ]
    },
    {
      "cell_type": "code",
      "metadata": {
        "id": "1TfXTOhHd_kc",
        "colab_type": "code",
        "colab": {
          "base_uri": "https://localhost:8080/",
          "height": 34
        },
        "outputId": "5ad68d0a-0e5d-424e-d8e5-4550e7884b7a"
      },
      "source": [
        "prediction[0].argmax()"
      ],
      "execution_count": 256,
      "outputs": [
        {
          "output_type": "execute_result",
          "data": {
            "text/plain": [
              "7"
            ]
          },
          "metadata": {
            "tags": []
          },
          "execution_count": 256
        }
      ]
    },
    {
      "cell_type": "code",
      "metadata": {
        "id": "-2L6r-oyeFQm",
        "colab_type": "code",
        "colab": {
          "base_uri": "https://localhost:8080/",
          "height": 265
        },
        "outputId": "74f740c8-b471-4ad2-ef45-1f2ce84c6539"
      },
      "source": [
        "plt.imshow(x_test[0],cmap=plt.cm.binary)\n",
        "plt.show()"
      ],
      "execution_count": 257,
      "outputs": [
        {
          "output_type": "display_data",
          "data": {
            "image/png": "[encoded data removed]",
            "text/plain": [
              "<Figure size 432x288 with 1 Axes>"
            ]
          },
          "metadata": {
            "tags": []
          }
        }
      ]
    },
    {
      "cell_type": "code",
      "metadata": {
        "id": "RuRH-pUtjznL",
        "colab_type": "code",
        "colab": {}
      },
      "source": [
        "pickle_out=open(\"x_test.pickle\",\"wb\")\n",
        "pickle.dump(x_test,pickle_out)\n",
        "pickle_out.close()\n",
        "\n",
        "pickle_in=open(\"x_test.pickle\",\"rb\")\n",
        "pickle.load(pickle_in)\n",
        "pickle_in.close()"
      ],
      "execution_count": 0,
      "outputs": []
    },
    {
      "cell_type": "code",
      "metadata": {
        "id": "kLEb8oHwj1jo",
        "colab_type": "code",
        "colab": {
          "base_uri": "https://localhost:8080/",
          "height": 34
        },
        "outputId": "dc561a0c-40b1-4832-db28-36d7de1cd7cf"
      },
      "source": [
        "!ls"
      ],
      "execution_count": 259,
      "outputs": [
        {
          "output_type": "stream",
          "text": [
            "model01.model  sample_data  x_test.pickle\n"
          ],
          "name": "stdout"
        }
      ]
    },
    {
      "cell_type": "markdown",
      "metadata": {
        "id": "ZXVnNcirowZD",
        "colab_type": "text"
      },
      "source": [
        "Download file from Colab to local browser"
      ]
    },
    {
      "cell_type": "code",
      "metadata": {
        "id": "geBG_syMoSaF",
        "colab_type": "code",
        "colab": {}
      },
      "source": [
        "files.download('model01.model')"
      ],
      "execution_count": 0,
      "outputs": []
    },
    {
      "cell_type": "markdown",
      "metadata": {
        "id": "4-3-k6DVo14w",
        "colab_type": "text"
      },
      "source": [
        "Upload file from loack machine viw browser to Colab"
      ]
    },
    {
      "cell_type": "code",
      "metadata": {
        "id": "DkwxKKaaou_r",
        "colab_type": "code",
        "colab": {
          "resources": {
            "http://localhost:8080/nbextensions/google.colab/files.js": {
              "data": "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",
              "ok": true,
              "headers": [
                [
                  "content-type",
                  "application/javascript"
                ]
              ],
              "status": 200,
              "status_text": ""
            }
          },
          "base_uri": "https://localhost:8080/",
          "height": 111
        },
        "outputId": "97966fe8-8ee6-4c9a-f3db-10d7e72efc78"
      },
      "source": [
        "files.upload()"
      ],
      "execution_count": 266,
      "outputs": [
        {
          "output_type": "display_data",
          "data": {
            "text/html": [
              "\n",
              "     <input type=\"file\" id=\"files-a280722f-eb67-434a-9116-7905b589b5ba\" name=\"files[]\" multiple disabled />\n",
              "     <output id=\"result-a280722f-eb67-434a-9116-7905b589b5ba\">\n",
              "      Upload widget is only available when the cell has been executed in the\n",
              "      current browser session. Please rerun this cell to enable.\n",
              "      </output>\n",
              "      <script src=\"/nbextensions/google.colab/files.js\"></script> "
            ],
            "text/plain": [
              "<IPython.core.display.HTML object>"
            ]
          },
          "metadata": {
            "tags": []
          }
        },
        {
          "output_type": "stream",
          "text": [
            "Saving office.jpeg to office.jpeg\n"
          ],
          "name": "stdout"
        },
        {
          "output_type": "execute_result",
          "data": {
            "text/plain": [
              "{'office.jpeg': b'\\xff\\xd8\\xff\\xe0\\x00\\x10JFIF\\x00\\x01\\x01\\x00\\x00\\x01\\x00\\x01\\x00\\x00\\xff\\xdb\\x00\\x84\\x00\\t\\x06\\x07\\x12\\x12\\x12\\x15\\x12\\x13\\x13\\x15\\x16\\x15\\x15\\x16\\x15\\x17\\x16\\x15\\x17\\x16\\x15\\x17\\x16\\x15\\x15\\x16\\x18\\x17\\x17\\x17\\x15\\x16\\x17\\x18\\x1e( \\x18\\x1a%\\x1d\\x15\\x17!1\"%)+...\\x17\\x1f383-7(-.+\\x01\\n\\n\\n\\x0e\\r\\x0e\\x1b\\x10\\x10\\x1b-%\\x1f%/----++0---+-/-/--------/+-------------+----------\\xff\\xc0\\x00\\x11\\x08\\x00\\xc2\\x01\\x03\\x03\\x01\"\\x00\\x02\\x11\\x01\\x03\\x11\\x01\\xff\\xc4\\x00\\x1c\\x00\\x00\\x01\\x05\\x01\\x01\\x01\\x00\\x00\\x00\\x00\\x00\\x00\\x00\\x00\\x00\\x00\\x05\\x00\\x02\\x03\\x04\\x06\\x01\\x07\\x08\\xff\\xc4\\x00@\\x10\\x00\\x02\\x01\\x02\\x03\\x05\\x05\\x04\\x07\\x06\\x06\\x03\\x01\\x00\\x00\\x00\\x01\\x02\\x03\\x00\\x11\\x04\\x12!\\x05\\x061AQ\\x13\"aq\\x912\\x81\\xa1\\xb1\\x07\\x14#Br\\xc1\\xd1\\x15Rb\\x82\\x92\\xb234c\\xa2\\xe1\\xf0\\x16C\\x83S\\xff\\xc4\\x00\\x1b\\x01\\x00\\x02\\x03\\x01\\x01\\x01\\x00\\x00\\x00\\x00\\x00\\x00\\x00\\x00\\x00\\x00\\x02\\x03\\x01\\x04\\x05\\x00\\x06\\x07\\xff\\xc4\\x006\\x11\\x00\\x02\\x02\\x01\\x03\\x02\\x03\\x05\\x06\\x04\\x07\\x00\\x00\\x00\\x00\\x00\\x00\\x01\\x02\\x03\\x11\\x04\\x12!1A\\x132q\\x05\"3QaR\\x81\\x91\\xa1\\xb1\\xc1\\x15BS\\xf0\\x14#\\x92\\x93\\xb2\\xd1\\xd2\\xff\\xda\\x00\\x0c\\x03\\x01\\x00\\x02\\x11\\x03\\x11\\x00?\\x00\\xf6ri^\\xa0\\x97\\x14\\xa3\\xc6\\xaaK\\x8dnV\\x1f\\x1a%\\x06\\xc0vE\\x04Kx\\xd5iv\\x82/;\\xf9k\\xf1\\xe1Bfrx\\x92j\\xbbQxb\\xdd\\xdf\"\\xfc\\xfbe\\xbe\\xea\\xdb\\xc4\\xebCq\\x18\\xc9\\x1f\\xdac\\xe5\\xc0z\\nkTdT\\xedB\\xdd\\x8d\\x9150\\xd4\\x8c*6\\xaeh\\x85\"3LcOj\\x8d\\xa8Z\\x0b#I\\xa8\\xd8\\xd7X\\xd4lhp\\x12g\\x18\\xd4N\\xa0\\xf1\\x00\\xfb\\xa9\\xe6\\xa3cP\\xd0I\\x9c&\\x98Z\\x915\\x1b5\\x08I\\x9d&\\x9aZ\\x9b\\x9a\\xb8M@Y\\x1cZ\\x9aZ\\xb8i\\x84\\x8a\\x86\\x89\\x1f\\x9a\\xb9\\x9a\\xa22S\\x1aj\\x1c\\x13\\x92\\xc6j\\xeej\\xa2\\xd3\\x1a\\x89\\x9c\\xd0\\xb8\\x84\\x98O\\xb7Q\\xc4\\xd5\\xad\\x99\"\\xcb \\x8c\\x1b\\x13}H\\xd3A~\\xbe\\x15\\x9ebh\\x9e\\xeb\\xb5\\xb1*|\\x1f\\xfbMU\\xd4\\xc2Q\\xaaR]\\x90\\xca\\xded\\x91wj\\xcear\\xba\\x1bs?\\xa5Q;D\\x9f\\xbd\\xe9\\xa5\\x12\\xdb8~\\xd2Aq{\\xb7\\xe7W0\\xfb<\\x01\\xa2\\x81\\xe4-XUo\\xbe9r4d\\xe1_D\\x03C#pV>6?3\\xa5L\\xb8\\x19\\x9a\\xda\\x05\\xbfV\\xfd/ZX\\xf0\\xfe\\x15?`)\\x8bI\\x15\\xd4\\x07\\xa8}\\x8c\\xb8\\xd8\\xed~\\xf3\\xda\\xfc\\x80\\xfc\\xc9\\xa9\\x17b \\xe2\\x19\\xbcI\\xd3\\xfd\\xb6\\xad\\x1a\\xe1\\xba\\xd3\\xc6\\x1ct\\xa2U\\xc5t!\\xd9&\\x03]\\x8f\\x15\\xbd\\x81\\xe8)Q\\xc0\\x9e\\x1f\\nU\\xd8@\\xeeafqQ1\\xaf9\\x1b\\xd5\\x89\\x84\\xe5\\x9a2\\x0fFVC\\xe8h\\x86\\x1f}\\xe3>\\xd0+\\xf1\\x15\\xec\\xf2\\x8f?\\xb6F\\xc5\\xaa&\\xa0\\x90\\xef,/\\xc1\\xc5Y\\x1bM\\x0f:\\x9e\\x08\\xe5\\x17Z\\xa2j\\xaeq\\xab\\xd6\\x98qB\\x85\\x90L\\xd5\\x1b\\x1a\\x8c\\xe2\\x05F\\xd3P\\xb0\\x87\\xb1\\xa8\\xd8\\xd4o7Z\\xaf&1\\x07\\x16\\x14\\r\\xa0\\x92l\\x9d\\xcdBMU\\x93i \\xf1\\xaa\\xcf\\xb5:\\x01B\\xda\\rFA\\x02i\\x8dC\\x1fh\\x13\\xce\\xa1lU\\xf9\\xd0\\xe45\\x16\\x13g\\x1dj\\x16\\x98P\\xf3=0\\xcdB\\x1a\\x89}\\xa7\\xa8\\xdaz\\xa4f\\xa6\\xf6\\xb5\\xc1`\\xb6\\xd3S\\x0c\\xb5X\\xc9M\\xcf]\\x82K&Ja\\x92\\xa2\\xcdQ\\xb3W\\x1cL^\\x98^\\xa2-\\\\-\\\\q.z#\\xb0\\x1f\\xed\\x87\\x93|\\xa8Fj#\\xb0[\\xedG\\xe1jN\\xa7\\xe0\\xcb\\xd1\\x8c\\xab\\xce\\x8dVL\\xce\\x9f\\x88Q\\x98\\xe2\\xb5\\x0c\\xc2%\\xca\\x9f\\x11F\\x91O.\\x15\\xe5\\xf42[e\\xeah\\xde\\xb9G#\\x8e\\xc2\\xddx\\xd4\\x99-R\\x88\\x8dG$\\x88\\xba3\\xa8\\xf3`*\\xf6\\xf4#k##ZN\\x05G.\\xd0\\x84}\\xf1\\xee\\x0c~B\\xab\\x1d\\xab\\x10\\xd6\\xcc}\\xc0|\\xcdWr\\xe4j\\x8b/\\x05\\xae\\xd0\\xdf\\xdbk\\xfb\\x9f\\xee\\x1f\\xa5v\\x83y>\\x1b \\x8blc\\x1c\\x841A:\\x92\\x14\\x94tp.mvTb@\\xf3Z\\xf3\\x1d\\xe1yVB\\xd2\\xc3\\xd9\\x12}\\x9e\\xcf\\xb2_ \\xa4\\x0f^5\\xf4\\x16+\\x07\\x14\\x9aI\\x1a?\\xe2Uo\\x98\\xa0;\\xcd\\xb3R,,\\xd2C\\x9e6D,\\xb9$\\x90 \\xb7X\\xf3d\"\\xddE{M\\xe9\\xf0a\\xaa\\xdc9<\\t\\xb1\\xd6\\xe5SC\\xb6Xpb(>\\xd0\\xc4\\xb9\\x91\\x897$\\x92t\\x02\\xe4\\xeaN\\x9c=\\xd5W\\xeb>\\x14\\xb6\\x86\\xa7\\x93c\\x0e\\xf28\\xe2\\xd5\\x7f\\x0f\\xbdkq\\x9b\\xe0u\\xf5\\xb1\\xac\\x1c$\\x1a!\\x85\\x8bQB\\xdb;d_c\\xd2c\\xda\\xe9\"^\"\\xe2\\xdcs\\x01\\xee\\xb7^uG\\x15\\x88s\\xf7\\x9b\\xd6\\xdf*\\xa9\\xb2\\x96\\xc9V$\\xaa\\x169n\\xc6X\\xe8F8\\xe8\\x0b\\xc4_\\xa9\\xf55Q\\xe6q\\xf7\\x8f\\xbe\\x89\\xcc\\x95Fh\\xe8\\xe1\"Z!\\x18\\xf7\\x1ci\\xc3ju\\x06\\xa1\\x91*\\x07Jz`` \\xbbIz\\xd4\\xab\\x8c\\x1dh+GQ\\x95\\xa2 \\xd0\\xfdf\\xba\\'\\xac\\xefh\\xc3\\x815\\xd1\\x8cq\\xd2\\xa4\\xe3E\\xdbW{Z\\xcf\\x8d\\xa2y\\x8f\\x8d8mA\\xe3Q\\x82C\\xdd\\xa5=\\x1c^\\x80\\x8d\\xa4:\\xd7F\\xd2\\xf3\\xae94z\\x13bvr\\xa6\\x893\\xb6^,\\xca\\xa05\\xb8\\xe8\\rf\\x1eJ\\r\\xfbA\\x8f*\\xe7\\xd6\\x9c\\xd4\\x04\\xe4\\x82\\xe6Ji\\x94P\\x9e\\xd1\\x8f:@\\x1e\\xa6\\xa4\\x8c\\x85\\x0c\\xc2\\x89n\\xf4\\xc0\\xcdo\\xe1o\\xca\\xb39(\\xd6\\xe9/\\xdb\\xff\\x00#~T\\x9dG\\xc2\\x97\\xa0uy\\xd1\\xac\\xfd\\xbe\\x10\\x95\\n\\xe4\\x83\\xc99\\x8f\\x16\\xab\\x0b\\xb6\\xb1\\x0e4W\\x03\\xcc/\\xc1E\\x10\\xc1` k\\x16\\x07\\xd6\\xda\\x9f*54\\xf8xc,\"C\\x97\\x8d\\xc9:s<\\t\\xaf\\x19^\\xa6\\xb7=\\x91\\xc4_\\xd5>_\\xdc\\x9f\\xe7\\x83V|uM\\x99e\\\\C\\xf1\\xf8\\xe6\\'\\xe2jhp\\x0c\\xcd\\x93[\\x8dO\\xc3\\xf5\\xad~\\x0b\\x1e\\n\\x83\\xd9\\xaa\\x1eb\\xd6\"\\x86}h}m\\xdb\\xa8\\x03\\xe0\\x9f\\xa5t\\xef\\x8e\\xd9m\\xb3-.\\x8a-c\\xeb\\x96\\x02\\x9bo\\x1bH`\\xdd\\xd6\\xe6\\x0f\\xbe\\xae.\\xee\\xf8\\x0f\\x85\\x15;G\\xca\\x9a\\xfb@\\xf8W/\\xe1\\xcf\\x97e\\x92\\xf4X\\xfd\\x85;n\\xec\\x90=wk\\xc4\\x7f\\xdfu*\\xb3\\xf5\\xf3\\xd4\\xfa\\xd2\\xa5\\xf8\\xba?\\xe9Y\\xf8\\xa0\\xb7_\\xf3A\\x93Cw\\x913a1\\x03\\xfd\\x19\\x7f\\xb0\\x9a$j\\xae\\xd4K\\xc3(\\xeb\\x1c\\x83\\xd5M}\\x01u2\\xa5\\xe5g\\xcc\\xfbGg\\x067\\xa1\\xaf\\xb2\\xcfSZ\\x9cRj|\\xcdTd\\xa9\\x94\\xb9\"\\x0b+ ,4\\x16\\xa2\\xb8X\\xb5\\x15\\x0cIW\\xf0\\xeb\\xad-\\xb0\\xd2\\x0f\\xe0\\x87v\\xa6aL\\xc2\\x8e\\xedHET\\xb3\\xcc2=\\n\\xb2\\xadU\\x91*\\xfc\\x8bU\\xe4Z\\x88\\xb2Z\\x07\\xc9\\x1dWt\\xa2.\\x95\\x03\\xc7NL\\x86\\x8a\\x0c\\x95\\x13GD\\xbb\\n\\xe1\\xc3Q\\xa6\\x0e\\xd0K%FR\\x8b6\\x16\\xa38Z-\\xc4m\\x04:Uy\\x16\\x8b\\xcb\\x85\\xaa3Ej\\x9c\\x90\\xd6\\x06\"\\xd4\\xf1\\xa5v8\\xaa\\xf6\\x1b\\x08MC\\x91\\t\\x10G\\x1dN\\x98s\\xd2\\x8bavu\\x11\\x8bg\\xd2\\xdc\\xc6(\\x19\\xe5\\xc2\\x9e\\x94\\xff\\x00\\xaa\\x1a\\xd3&\\x00S\\x9b\\x03]\\xb8\\x9d\\x86T\\xc0h\\xb6\\xea\\xa5\\xa7\\xfeF\\xf9\\xadY\\x9b\\x05S\\xecH--\\xff\\x00\\x84\\xfc\\xc5*\\xf7\\x9a\\xdf\\xa0u\\xc7\\xdfA\\x04\\xda\\x04+q\\xee\\xb1\\xb9\\x00\\x9b\\x01\\xd6\\xd5Z]\\xa1\\x8a\\x88!\\xff\\x003$\\x8e\\x16\\xc9\\x13\\x88\\xe1^l\\xc5on+\\xc4\\x8b\\xd8\\xda\\x9b\\x82\\x88\\xb9\\x94X7x\\x83\\x19 \\t.4Spt\\xb9\\xbf\\xba\\xa9\\xef\\x0e\\xf3bp\\x8d\\xd9\\xda\\x11\\xa8*,\\xcc,mb\\xc6\\xc0\\x9ds\\\\\\x85\\x07\\xbba\\xc6\\xf5\\x8f\\xa4\\xd3G/\\x8c\\xe5\\xf7.\\xdd&\\x16\\xc2\\xa4\\x91K\\x90\\xe2\\x11\\x82 v\\x05,\\xe4\\xc9\\x9b\\xbdp\\xf7\\xd6\\xd7\\x00\\x8f\\xf8#\\x06 \\x9c\\xaex\\x9bp\\xac\\x00\\xdbp\\xe31\\x04cM\\x94\\'\\xd9\\x05w\\x11\\x82I$8\\x16\\xb3q\\xd5\\xb9q\\xe4\\x06\\xe7g\\xc42F\\x14\\x924\\xb1&\\xe4\\x83\\xa87\\xe7\\xa5\\xa9z\\xfa!\\x0c\\xcb\\xbbGQ6\\xc3g\\x14E\\xc8\\xd4\\x8f\\xba-s\\xe5}=k\\'\\xb0\"\\xc5ga+J\\x91\\xa1.\\x14\\x82\\x0c\\xae\\xc4\\xea\\xec=\\xabX\\\\^\\xda\\x8a\\xd5\\xa6\\x1a\\xd5\\xc9p\\xac;\\xd76\\xe9\\xde<|(\\xb4\\xf7WU2\\x84q\\xcf\\x7f\\x96>Bm\\xa7}\\x91\\x93o\\x8e\\xc7\\x12}+\\x95\\x17b\\xd4\\xa9\\t\\xc4\\xb4o\\xcdG8\\xba\\xb0\\xea\\x0f\\xca\\xa45\\xcbW\\xad1\\xd9\\xf3\\xde#R|\\xcdVe\\xa2\\x18\\xd5\\xb3\\xb0\\xfe&\\xf9\\x9a\\xa6EE\\x8f\\xde\\x02\\xaf*\\x05\\xc6*\\xec#Z\\xab\\x18\\xd6\\xae\\xc2($\\xc6$\\x1c\\xc2\\xfb4\\xe3\\\\\\xc2\\xfb4\\xea\\xaf>\\xa3#\\xd0c\\n\\x89\\xc5N\\xc2\\x98\\xcbB\\x82+\\x94\\xa6\\x98\\xea\\xcd\\xab\\x85h\\x91\\xc4B\\x1ap\\x86\\xa7U\\xa7\\xa8\\xa2\\xc98*\\x98).\\x1a\\xaeZ\\x9e\\x8b\\\\\\xd9)\\x02f\\xc2\\xd0\\xbcV\\x12\\xb4\\xf2%P\\xc5C\\\\\\xa4s\\x88+\\r\\x84\\xe1F0xZ\\xe6\\x1e*\\'\\x86Z\\x87,\\x82\\xa3\\x82l4\\x15uc\\xa6D*`hB\\x1a\\x12\\xba\\xc9P\\xe3q\\xa9\\x12\\xe6v\\xb0\\xe0,\\x0b\\x12lM\\x95T\\x12\\xc6\\xc0\\x9b\\x01\\xc8\\xd5\\x1d\\x9b\\xbcxi\\xdc\\xc6\\x8eC\\x8f\\xb8\\xea\\xc8\\xc6\\xdcl\\x18k\\xd6\\xdcjy8\\xb5,U\\xcc\\x0cvr|\\x0f\\xe5S\\xc9\\\\\\xc3q\\xf7~\\x94\\xab\\x9f\\xf9l:\\xd7\\xbc\\x89\\xf0\\xdb\\x19d\\xe2,s\\x02\\x1b\\x81\\x07\\xa8<\\x8f\\rhN\\xd1\\xddU\\\\SK-\\xe6R\\x02\\x80\\xd66$f\\xfe\\x91\\xc0x\\x83\\xcc\\xeb\\xad\\xc0\\xecub/)\\xb70\\x14_\\xd6\\x8c.\\xc1\\xc3\\x8f\\xbc}k\\xcc\\xe8\\xef\\x92\\x9b\\x94\\'\\xc7t\\xf0\\xbf\\xe5$\\xff\\x00\\x02\\xcd\\xd2\\x87\\nH\\xca\\xec\\x9d\\xd4\\xc1\\xe4\\x8aWTY\\x01\\xce\\x08e\\x06\\xd9\\x8b*\\xb0\\xbe\\xba\\x1b\\x10h\\x9ca;rK\\x0c\\xa0\\xe8o\\xa7.b\\x8d\\xfe\\xc6\\xc3x\\xfa\\xb5\\x0b\\x87\\x07\\t\\xc4:\\x11\\xdc\\x04[S\\xe1Cd8\\x9c\\xec\\x9es\\xf2\\x94^2\\xfe\\x8d\\xe1\\x03\\t\\xaeq\\xfa\\x17\\x9b\\x11\\x00\\xfb\\xeb\\xee\\xcc~B\\xa9&\\xd1\\xbb\\xbfhS\\xb3\\xee\\xf6A;B\\xda_1{\\xa8\\x1a\\xe9\\xc3\\x85\\xbd\\xf4av~\\x14}\\xd1\\xe8jA\\x86\\xc3\\x0f\\xb8\\xbe\\x86\\xa1h\\xe8QiY\\x0e~vt\\xf4\\xe1\\x81\\xe2.\\xbe\\xf0(m\\x08|})Q\\x80\\x90~\\xe0\\xf4\\xa5I\\xff\\x00\\x07\\xa6\\xfe\\xb4\\x7f\\xdc\\x7f\\xf9\\'\\xc6\\xfa2\\xf8\\x1e7\\xae\\x8aF\\xb9_@3\\x8f\\t\\xdb\\x0bi\\xa5\\x1d%\\x90\\x7f\\xbc\\xd0\\xf6\\xa2\\x9b\\xc2\\xb6\\xc5b\\x07I\\xe5\\xfe\\xf3B\\x9a\\x82\\xde\\xa4U\\xe5@\\xe4\\xe3\\xef\\xab\\x91U5\\xe2|\\xcd\\\\\\x8e\\x97&1\\x06\\xf0\\x87\\xbbRT83\\xa5MI\\x97P\\xe3\\xd0F\\x98\\xd4\\xf3M5\\x08#\\x96\\xa4k\\xb4\\xd64G\\x18\\xfd\\xe6\\xdb\\x92\\xac\\xc68\\xdc\\xc6\\x12\\xc3B.\\xc4\\x80nO\\xbe\\xd6\\xa3\\x9b\\xb2\\xb3\\x98\\xc4\\xb2N\\\\H4B\\x96\\xcaA\\xe2\\x1b\\x9e\\x83\\xa5U\\xdd\\xf1\\x13b1R\\x19\\x10\\xa1\\xb0\\xc8uv\\xbb\\x03\\x98\\x7f\\x05\\xee4\\xbd\\xc1\\xd6\\xd4G\\x19\\x8c\\x8521\\xe1\\x14d\\x03\\xd0\\x00\\x05\\xed\\xcd\\xb4\\xb7\\xbe\\xa6s\\xc3PHeU\\'\\x07d\\x98O5=Z\\x84\\xec\\xad\\xb3\\x16 \\x12\\x97\\x16\\xe2\\x18X\\xfe\\x86\\xb3\\x18\\x8d\\xea\\xc4\\xa4\\xec,\\xa5U\\xd9{<\\xa3P\\xacE\\xaf\\xc6\\xfaq\\xf8Q(6-\\xc9#x\\xcdU\\xa6\\x14\\xe5\\x92\\xe2\\xfa\\xf9\\x1a\\x8aV\\xa5\\x8c&\\x84U\\xc8MP\\x8d\\xaa\\xccmB\\t}\\x1e\\x9e\\x1e\\xaa+\\xd7L\\xa0\\x02I\\xb0\\x1a\\x92x\\x009\\x9a\\x94@\\xb1\\x93X\\xa9\\xb8\\x07P\\r\\x87<\\xbdO\\x85d?f\\x86\\xc7\\xac\\x91\\x96\\xcf\\xda\\xa3\\x93{\\x80\\xaa/!n\\x97\\x02\\xd6\\xfe!V0;\\xcd\\xf5\\xccG\\xd5\\xd26\\xc8\\xca\\xe5X\\x12\\x1c\\x95\\x19\\xael{\\x8b\\x947S\\xa8\\xe1Y\\xdd\\xa7\\xbcEf\\x07\\nr$D\\x80m~\\xd4\\xf0,\\xc3\\xf7O!\\xd2\\xc7\\x8f\\x06F\\xa9\\xa9d\\x97l6`\\xf52i\\xd8n>\\xea\\xcen\\xce\\xf1\\x0cZ\\xb5\\xd3#\\xa6\\\\\\xc2\\xf7S\\x9a\\xf6*x\\xf2:\\x1f\\x8dhp\\x87\\xbd\\xee\\xfc\\xc5\"\\xf4\\xd4ZaT\\xd3i\\xa3\\xb3m\\x87\\x8a\"\\xc8\\xa5\\xd8\\x10\\x02\\x8f\\xce\\xd7\\xb0\\x1cN\\x9c\\xa9\\xb3o\\x068<9\\x02H\\xb2($F\\xacJ\\x9b\\x80C3\\x1d/}/n\\x06\\xb2\\xb8\\xdd\\xae\\xc2\\x1c\\xa3F/#\\x06 \\xe8\\x11\\xf2\\x04\\x16\\xe2H\\xd7\\xdfSn\\xa6\\xf3\\xc1\\x87\\x18\\x82\"\\xca\\x01\\x04\\x0c\\xf7g\\x19\\x9a\\xf6\\x16\\xd0\\xa8\\xd7\\xc7A\\xa5\\xeb>\\x9fcV\\xab\\xdddS\\xcf\\xe8;Q7\\xc3L\\xd8\\xe27\\xa5\\xe3\\x97\\xb2d\\x90\\x1d\\x06l\\xa7-\\xcf\\x00\\t\\xd1\\xbd\\xd5aqg8~d\\xde\\xa8o,),Y\\xc0f!s\\x02\\xb6b\\x00\\xb1=l8\\xf0\\xe4*=\\x92\\xf9\\xe2\\x85\\xb5\\xef*\\xb6\\xb7\\xbe\\xa0\\x1do\\xadR\\xbf\\xd9\\xd5Q\\x17\\xb1p\\xd6?2i\\xb1\\xc9\\xf2\\x1d|{\\x1aK\\x8ea\\xce\\x98\\xb1\\xd3\\x8cT\\xca\\xb4T\\xa8\\xe3j%\\xc9\\x8b\\xeb\\xefJ\\x9a\\x15\\xb9Wi\\x9f\\xe0\\xe9\\xfb+\\xf0;s7\\x86\\x98\\x1bR)\\xe6\\xb9^\\x95\\xb4\\xba\\x99g\\x88ob\\xdb\\x1b\\x8a\\x1f\\xeb1\\xf5\\x01\\xbf:\\x0c\\xd4w}#a\\x8d\\xc5\\x1c\\xa7/j\\xba\\xd8\\xdbX\\xa3<xu\\xa0\\x0c\\xd4\\x99\\xcfs\\xc8U\\xc7\\x08\\xa2=\\xa3\\xe6~un3T\\xaf\\xde>g\\xe7V\\xa3j\\x19\\x06\\x90s\\x04t\\xa9\\xea\\x96\\x05\\xaa\\xc9jS\\r!\\xc4\\xd3\\x18\\xd2g\\x14\\xbb\\t\\x1b\\xd9Go\\xc2\\xac~B\\xa0\\x93\\x99\\xeb\\'\\xbc\\xfb]\\xf34(l\\xa3F<\\xd8\\xdbQ\\xe5Z\\'\\x97+\\xf6l\\x08`/b-`\\r\\x8d\\xfa\\x1dG\\xadbw\\x8a,\\xb3>\\xb7\\xccs\\x7fV\\xb6\\xff\\x00\\xbd)\\xf4r\\xf9\\x17k\\xe3\\x80b\\xcaA\\xb86#\\xa5M&5\\x99;#\\xc3\\x91\\xb5\\x89\\xf3\\xeb\\xe1U+C\\xb9{J(\\'&E[\\xba\\xe5Y\\x0f\\xfe\\xb3\\xc7\\x9e\\x80\\x1e\\x17\\xf2\\xe5zt\\xf8Y\\xc6E\\xc1e\\xe1\\xbc\\x1a\\xad\\xca\\xc3\\xbe4\\x95\\x89UR5P\\xcf\\x94*\\xa5\\xfe\\xe9\\xb6\\xa5\\xceRl.9\\xdc^\\xb5\\xb8\\xdf\\xa3\\xac;}\\xa2\\xb5\\xe6\\x071v\\x04\\x06#\\xc8\\xe9\\xe7\\xadC\\xf4w$Qa\\x1d\\xd4\\xb3\\xf6\\xb3K1\\xc8\\x8e\\xd6\\x05\\xb2\\xc6\\xac@\\xb2\\x9b*\\x9b\\x12\\x0fz\\xfc\\xebF\\x9bTg12\\xd9\\xb49s+6];\\xcc\\x17\\xd8\\x1c\\xaeO\\x95\\xe9\\x12I\\rNO\\x93\\x0b\\x8f\\xc3\\xbc.RAc\\xc7\\x91\\x04u\\x04q\\x15BI\\xabU\\xbe\\x8aLA\\xcd\\xbb\\x8eG\\x92\\x9d8\\xf3\\xd4\\x0fZ\\xf3\\xdc^\\'\\x8e\\xb6\\xe3\\xafO\\x1a\\x07\\x11\\x9b\\xb8\\r\\xe0U\\x9eFQ,D\\xf6L\\xc9\\r\\xc8r\\xcbcv*\\xad\\xa1\\xb8\\xb7=N\\x9aW\"\\xda\\xf1\\x17\\x08\\x1ds\\x1e\\nOx\\x7f\\t\\x07PF\\xbaX\\x1f\\n\\xcca\\xb6z\\x9e\\xd5\\xee\\xe5B\\x1b\\x95\\xb8\\xb8b\\x05\\x98\\x8b\\x0b{?\\xd3B6\\x8c\\t\\x1eWG9\\xee\\x1b-\\xc1\\xcaF\\xb7\\xb8\\xd6\\xf7\\xe5LU\\xa6\\'{\\xeezz\\xc9B\\xb7\\xa7\\x1f\\xd9\\xe1\\xa4\\xd7W\\x19\\x17\\xcd\\xb4>\\x8bs\\xee\\xa8\\xf0X\\xd3<\\x0f$W\\xee\\x8b1\\x16\\xfb2t\\xd4\\x9d\\x07Q~5\\x8c\\xde\\x08\\x8aH\\x06y\\x1dmpdl\\xcc/\\xc7\\x86\\x9a\\xd8\\x1a\\n\\xe3\\xefa\\x87\\'\\xee\\xe5\\x11l\\xbd\\xa0a\\x132\\xe8\\xef\\x13D\\xa7\\xa0\\x90\\xa8s\\xfd\\x01\\x87\\xf3P\\xf3Z|&\\xe7\\xb4\\x90,\\xcb<w+\\x98\\xa1\\x07\\xba\\x08\\x0c\\xa30\\xbd\\xd8\\x82.-\\xa5\\xf9\\xd6s\\x15\\tF(H$\\x1b]M\\xc7\\xfd\\xf0:\\xd5\\xa54\\xde\\x10\\x97\\t$\\x9bF\\xc3\\xe8\\xe66\\x1d\\xb3\\xdb\\xba{5\\x07\\x91#1#\\xdd\\x98z\\xd6\\xf7\\x00\\xdd\\xefw\\xe6(.\\xeb\\xe0\\x95pp\\x91\\xc0\\xc7\\x9c\\xf1\\xcd\\x99\\x8b3X\\x057\\xf4\\xe5E\\xe1(%*\\x84\\x91\\xd9\\xde\\xe7\\xaeb\\xa4p\\x1c-T5O*L\\xb9T1\\x82\\xbe\\xc2\\xd8\\xce\\xf2\\xb8\\xca2\\xa2\\x8b\\xc6\\xc3\\xba\\xe6K\\x9c\\xc4x\\x15\\xb5\\xfc\\xeaI\\xb7\\x1a,\\xecO\\xd9\\xb8|\\xc0\\xa9\\xb5\\xf4\\xd3(\\xb5\\xad~C\\x9di\\xf6~\\xd1*\\xc1\\x8c*l-p\\t6>=<*\\xec\\x9bg1\\x0c\\xd1\\xe5#\\x80\\x03K^\\xfa\\xdf\\x9e\\x95\\x8b\\xa3\\xd4\\xde\\xec{\\xda\\xc6:?\\xd7>\\xa1\\xdbNx\\xc07\\t\\xb1\\x9f\\xb31\\x15\\x19XY\\xaf\\xc4\\xdcX\\x8f\\xcbZ\\x93\\x07\\x82\\xfbL\\x9f\\xbam\\xee\\x14Y7\\x86>q\\xdb\\xfe\\xf9\\xd5\\x1c&\\xd5\\x8dgy\\x08\\xee\\xb1\\xd3\\xc3[\\xd5\\t\\xab\\xdcd\\xa7,\\xf6XR\\xe3\\x95\\xcf+\\x9f\\xb8l2\\xbaD$0T\\xd6\\xd9\\xe6\\xa5m\\xe1\\x80\\xf2\\xf8\\x11\\xf2\\x14\\xf4\\xdb\\xd0t\\xf87\\xe9E[\\xb6<x\\x9c|\\xf6O\\xf4\\xdb\\xfb\\x81\\x99\\xfd\\x92\\xb0\\xc07ZUyv\\xf6\\x1f\\xc3\\xd0\\xfe\\x94\\xa8\\xf7\\xd9\\xfde\\xfe\\x89\\xff\\x00\\xd0;\\xe7\\xf6Lv\\'\\xe9a~\\xe6\\x14\\x9f\\x16\\x94\\x0f\\x80C\\xf3\\xaa\\x13})\\xce}\\x88b_<\\xed\\xf9\\x8a\\xf3\\xc2)W\\xaeqL\\xa0\\x934\\xdbkzq\\x18\\xa1i\\x1ce\\xd0eQe\\xd0\\xdcq\\xb9\\xe3\\xe3\\xca\\x82\\x16\\xaa\\xf9\\xabI\\xb8\\xf8Xf\\x96D\\x95\\x03\\xda<\\xcb{\\xd8\\x10\\xc0\\x1d\\x01\\xb1\\xe28\\xd2\\xa4\\x94W\\x03R2\\xcc\\xc2\\xe7\\xce\\xad\\xa2\\xb5\\x83X\\xe5:\\x06\\xb1\\xb1=\\x01\\xe1^\\x9d\\x0e\\x1e(\\xfd\\x88\\xa3O\\x15E\\x07\\xd4\\x0b\\xd5\\x1d\\xe6\\x8c\\xcb\\x03\\x8e%Fa\\xe6\\xba\\xfc\\xafKv\\xa0\\xf6\\xb3!\\x81j?\\xbb\\x90\\x87\\x9cf\\x00\\x85Wb\\r\\x88\\xe1a\\xc7\\xf8\\x98Vg\\x02\\xdc\\xf9u\\xe5Z\\xcd\\xd2K\\x19d`@\\xc8\\x14\\x12,\\x0ef\\xcd\\xa1?\\x83\\xe3D\\x96Y\\x19\\xc24}\\xbeSdU\\x1eZ|\\xadU\\xf1\\x93\\xca\\xba\\x13\\x96\\xfa\\xf0S\\xa5\\xff\\x00\\x8a\\xf4\\x0fkmK_+\\x01k\\x924\\xefYM\\x96\\xe7\\x85\\xcd\\xb5\\xa1\\xfbGi\\x16\\x84\\xcd\\x13\\\\3,\\xc6\\xf7`A\\xfb)\\x90\\x11\\xc3\\xbe\"m/a \\xea)\\xc9w\\x16\\xe4\\xba\\x15\\xb6\\xb9e\\x95\\xd8\\xea\\xaeX\\x83\\xc9\\x85\\xff\\x00#X\\x8d\\xee\\x1fj\\x08\\xe0cS\\xe4s8\\xb1\\xf1\\x16\\xf9\\x1eu\\xa6\\xdd\\xbd\\xb6\\xa2`\\x1f\\x08\\xd3\\xa9\\x06\\xda\\x9c\\xa8\\x1b\\x8b\\x05\\xcaT\\x9f\\xc4W\\xd6\\xb2\\x9b\\xcb\\xb4\\x13\\x111x\\xe21\\'\\x01\\x19b\\xc4Z\\xf77<.O\\x0eU\\xd5FJo(\\x8b$\\x9cx\\x02\\xe6\\xae^\\xbbj\\xed\\xaa\\xc0\\xa3q\\xf4}\\x85\\xc6b\\xa1\\x9b\\x0f\\x0e9\\xb0\\xd1F\\xc1\\xd9Q\\x01f2\\\\\\x13\\x9c\\x15`;\\x9c/j\\xf4\\xfd\\x89\\xb2S\\t\\x85X\\x81\\x0e\\xda\\xe7\\x97(V\\x91\\xaeNf\\xd4\\x93\\xc6\\xc2\\xe4\\xe8+\\xc6w;y\\xce\\xcfi[\\xb2\\xed;@\\x80\\x8c\\xf9-\\x94\\x93\\x7fd\\xdf\\x8dnvW\\xd2L\\x13\\xe5\\x89\\xe2\\x927g\\n\\xba\\x87RZ\\xc0]\\x85\\x8a\\xeazRf\\xa5\\xf2\\xe0dZ/\\xef\\x16&B\\xcf\\x17w#\\xae}I\\x1a)[\\x8b\\xf8\\x1b\\x1f}c!\\xdaR\\xc4\\xf9\\x10q\\xd7K\\x16\\xb7\\x91\\x1a\\xd5\\x9d\\xe9\\xde8\\xa4t0\\x92\\xc61*\\xb6\\x99B\\x92c\\xb0\\xef{Z\\xa1\\xe1z\\t.\\xcc\\x86&B\\x16T\\xb9\\x8a\\xf7`T\\x86Q\\x9bQfSs\\xe3\\xee\\xa3\\xa69\\x92\\x8b]H\\xb6ME\\xb4\\xc3x\\x8d\\xa3#\\x82\\x0b\\x02-\\xafu8\\x1e\\xa4\\r\\x05b\\xb6\\x98\\xcc\\xcc\\xe0\\x05P\\xd9\\x00\\x16\\xd4\\x81\\xc4u\\xe1\\xf1\\xad\\x96\\xdd\\x84C\\x87\\x12Ah\\x8a\\xb0\\xceUopy\\x91\\xcc\\xe6\\xcb\\xc7\\xa9\\xac\\xa6+jM01\\x86\\x91\\x81\\x17`Il\\xd6\\xe7\\x94h\\x05\\xed\\xc2\\x9du2\\xa6{^\\x05\\xd5lm\\x86VN\\xecM\\xae\\xd0,\\xca-\\x95\\xe3\\xb1S\\xaa\\x96\\x06\\xcb\\xa7\\xf3\\x1a\\x8f\\x01\\xdaO0@\\x03\\x19.\\xb6>\\xca\\x82\\x0f{O\\xdd\\xf6\\xbf\\x96\\x86\\x9a\\xb1\\x81\\xc54N\\x1dN\\xa2\\xe3\\xdcx\\xd2\\x9a\\xee\\xba\\x8cO\\xb3\\xe8_y\\xe7\\xc1I$!\\x97C\\xaf4o\\xdd\\x91G[u\\xf7\\x8a\\x17,\\x85\\x89f7$\\xdc\\x9e\\xa6\\xbb4\\x85\\xd9\\x99\\x8d\\xcb\\x12M2\\xa5.\\xe77\\xdb\\xb1\\xe9{\\xa9\\xb7\\x9b\\xea\\xf0\\x86f\\xb4jP\\x00\\x06\\xa1X\\xd8\\x13qqm,A\\xa3\\xf8-\\xa4\\x93J\\xc7\\xbd\\x9c\\xa8\\xb9!\\x00*\\xa6\\xc2\\xd6\\xd4[5\\xb8\\xdb\\x9f\\x1a\\xc2l\\x00V\\x05\\x06\\xda\\xdd\\x87\\x93k\\xaf\\x8e\\xa6\\xb4\\x9b\\xb8\\xff\\x00h\\xdf\\x80\\xfc\\xd6\\xaajb\\xbc91\\xf4\\xc9\\xeeH\\xf4\\x0c&\\xd1(\\x01\\xebE\\xa2\\xda\\xde6\\xf7\\xd6ZX\\xc9T\\xf3\\x159\\x85\\xadq\\xd4\\xfc-\\xfa\\xd7\\x89\\xa7KU\\x89\\xc9\\xf54-\\\\\\xf45\\x07j\\x0b{G\\xd6\\xaa\\xc9\\xb5\\x92\\xfc\\x07\\xbe\\xb3\\xdd\\xf2H\\xd7\\xce\\xabN\\x18k\\xad\\x1b\\xd1\\xc2X\\xf7\\x9f\\xe2+\\x18\\xec\\x1d\\xc7o$\\x10\\xc6\\xd2\\xc8\\x00U\\xe3\\xdd\\x04\\xeal\\x00\\x16\\xd6\\xe4\\xd7\\x9em\\xdf\\xa5\\'2\\x0f\\xabA\\x08\\x8f \\xbfi\\x10/\\x98\\x93r\\x08 p\\xb6\\x96\\xeb\\xc6\\xa8o\\xde>\\xd1\\xaa_RI\\x03\\xcb@|\\xb5?\\n\\xc1\\\\\\xd6\\xf7\\xb3=\\x95\\\\a\\xbeM\\xbc\\xf6\\xcb\\xc7\\xe0T\\xba\\xd7\\x9c#b\\xbfI\\xd8\\xd1\\xa1\\x8f\\nm\\xcc\\xc1\\xa9\\xf4jU\\x8b\\x93\\x89\\xaeV\\xa7\\xf0\\xfd7\\xd8B|Y\\xfc\\xcd\\x83\\xd4lh\\x96\\xd1\\x978\\x0c\"\\x8a0u\\x01C\\x96\"\\xf6&\\xf9\\x82\\x81}=\\x9dlzP\\xc9)\\xa3\\x0e3iF\\xf7\\'\\x18c\\xc5\\x02\\x15\\x9e\\xe8\\xe3*e\\xcc\\xda^\\xc31\\x03\\x97Z\\xcfH\\xdaQm\\xcb\\x92\\xd8\\xc8\\xbf\\xfa\\x7fcP\\xc9pCa\\xed\\xbb\\xbeM\\x0b\\xe5\\xfa\\xbbG{\\xe5\\xed\\x9b%\\xecll\\x00\\xb1\\xb1\\xd3CBd\\xdf<K\\x0e\\xe8E\\xf1@\\x0f\\xf7f\\xaa{\\xfeN#\\x1f\\x04\\x00\\xf1HWNFWfc\\xe8\\xc0\\xd6\\xc3\\x11\\xb8x\"\\x19\\xda\\x04E\\xb9\\xb1Y\\x19\\r\\xb9h\\x1a\\xc2\\xa3mQK1\\xea\\x06\\xe9\\xcb\\xb8Ww\\xf6\\x1c\\xd2D3\\xe2J\\xab\\xd9\\xccp\\xa32\\xdc\\xeb\\xca\\xc8\\x0e\\xb6\\xf6OMl,Chn~h\\xb2\\xc9\\x8c\\x9b\"\\x91l\\xc9m-`\\x08R/\\xc7\\x80\\x03\\xca\\xbc\\xf3hn\\xae\\x12\\x143G>*%\\xbd\\xb3+\\x82\\x99\\xb5\\xd2\\xf9nxu\\xe5Y=\\xb5\\xb4&\\n\\x10cq2\\xc7\\xae\\x8e\\xf2\\x01\\xe9\\x9c\\x83O\\x83\\x84\\xbc\\xa44\\xd7S\\xd4\\xf6\\xff\\x00\\xec\\xec\\x14\\n\\x16P\\xae\\x99\\x07t\\xc6\\xb39\\xb8\\xbb\\x00\\xc4\\x91\\xa9\\xb9\\xd3\\x81\\xac\\x16/ypi\\x86\\xec`\\x8e@IRFiJ\\xa9\\x1cn\\x1aL\\xa5\\xac\\x00\\xb8\\x16\\xd7\\xc2\\x80`\\xf6Te\\x15\\xd9\\x8fx\\x03m\\x00\\xd7\\xe2j\\xc3\\xac\\n\\xa4([\\xd8\\x8b\\xda\\xe7\\x87SB\\xe5\\x1e\\x81m}H\\xe3\\xda\\x93\\xb6\\xb1!\\xfcD\\x93\\xe1\\xc7@<\\xa8~0\\xb0c\\x9e\\xd9\\xb9\\xda\\xde\\xee\\x15sfc2\\xc4\\x16\\xd7=\\xee}I\\xaa\\xdbJB\\xe45\\xad\\xa5\\xbd\\xdch\\xa2\\xfd\\xec`\\x19G\\x8c\\x94\\xef\\\\\\xa5V\\xf6^\\xcd\\x9b\\x10\\xf9!\\x89\\xe4n\\x16E-k\\xf0\\xb9\\xe0=\\xf4m\\x83\\x82\\xab\\xb5\\x15\\xdd\\xac5\\xe5Y,HF\\xb9\\xb0\\xbe\\xa4w|8\\xeb\\xc7\\xa5ip\\xdb\\x19p?a\\x8e8ey\\x18\\x12\\x963L\\xa1\\x95l\\xa7\"2\\xaf[f\\xfb\\xdau\\xad\\xb6\\xecl\\xfc\\x16\\x06\\x07\"F) V\\x05\\xc8\\xb4\\x8aA\\xef\\x0b\\x80,A\\x1e\\xeaM\\x97(\\xf1\\x81\\x90\\xad\\xc8\\xf3=\\x9f\\xb1\\x9f\\x13,\\xc5VE\\x85\\x99\\xd86PN\\xba\\xe5\\xd4\\xe5<H\\xe3Ff\\xdd\\xdcv,9\\x11\\xaa\\x04\\xb0\\nRE.\\x01,\\x18j\\xd7\\xe3\\xe5\\xaf:\\xf5\\x1d\\xdd\\x9b\\x05\\x93,k\\x18P;\\xbc\\x18e:\\x90-p\\x00<\\xbc\\xa8\\xa1\\xc6\\xe1c],\\xaa?uH\\x17:\\xf3\\x16\\xd6\\x94\\xb5\\x1d\\xf2\\x90\\xc7Gc\\xc1q\\xd8\\\\{w%\\x83\\x10\\x888\\xa0\\x86b\\x0f\\xe2{\\x1c\\xde\\xb5W\\x0f\\x83*\\xdd\\x99I@b\\x0bF\\xa1\\xd1\\x8d\\xb9\\x1c\\xc3N\\xb7<8\\xd7\\xafmM\\xf7T\\xd2\\x14\\x07\\xc5\\xaf\\xf2\\x06\\xb2[_x\\xa7\\xc4\\x8c\\xb22\\xe4\\xb8!U\\x14\\x00o\\xc71\\xbbs\\xebSf\\xb9\\xd9\\xcb\\xe5\\x9d\\r*\\x87N\\x0c\\xce3w\\xa3\\x111=\\xc9I\\xba\\x93&dE\\xe3\\xf6\\xacW\\xbcm\\xfb\\xbay\\xd0(\\xf0\\x08\\x0e\\xb3\\xc6F\\xb7\\xc8$f>\\n\\xa5\\x05\\xc9\\xe1\\xc6\\xd4k\\x19\\xb4\\xe1\\xecLY\\xbb\\xd9\\n\\x91f\\xf6\\xad\\xd4x\\xd6\\x7f\\x0e\\x06e\\x03\\x89`\\x07MH\\x1f\\x9d\\x1d\\x0em=\\xe0Z\\xa2\\x9a\\xdaA*\\xd8\\x91\\xd0\\x9byr\\xa4\\xeaE\\x89\\x04\\x02.\\t\\x16\\x04p\\xb8\\xbf\\x11q^\\x83\\xbb\\x1fFx\\x8ct\\x9d\\xa9=\\x96\\x1bK\\xc8E\\xcb[FX\\x90\\xf1\"\\xd6\\xcct\\x1e$\\x11^\\xdf\\xb1\\xf7{\\x0f\\x85\\x8f$Q\\xdc\\x10\\x03\\x16\\n\\xce\\xe4_Vb\\x05\\xf8\\xf0\\xf6G )\\x92\\xb1 \\x14r|\\xf5\\xb3\\xa5\\x1d\\x9a-\\xf5\\x11\\xc6m\\xd0\\x15\\x1ch\\xfe\\xef=\\xa4o\\xc0~k^\\xc96\\xed`\\x9f\\xbd&\\x13\\x0f\\x98\\xf1a\\x1a\\x06\\xf2\\xce\\x00cQb7K\\x08\\xe4\\x1c\\x8c\\xa5W\"\\xe5v\\xd1t\\xd0\\x02H\\xe4*\\xad\\xd2s\\x83\\x8a\\xee:\\xbcFI\\xb2\\xbe\\x03g\\x06\\xb7:\\xa7\\x06\\xd4\\x8eIc\\xc3\\x05\\xcao&k\\xb2\\x86U\\xc8\\\\f\\x1c\\xbd\\x91\\xcc\\xf1\\xf4(\\xdb\\xb7\\x1a\\x82{W\\n\\x01\\xb9b\\xb6\\n\\x06\\xba\\xd8[\\xcc\\xd0\\x186\\x0e\\x16q\\xda\\t{E7\\xb3\\xda3q\\xc8\\xf6\\x88\\x01\\xd7\\xc0\\xd7\\x99\\xa3\\xd9\\x96V\\xa5\\xe2e\\xe7\\x8e\\x1f\\xe9\\xf5\\xfa\\xff\\x00n\\xe4\\xedS~\\xeb\\xfc\\x8b\\xfb@E\\x1cY\\xd5\\x94\\xa9k\\x17\\x0c\\xa4(\\xd4\\xb1$\\x1e6R\\x05\\xf9\\x91^g\\x8f\\xde9L\\xb1\\x95\\'\\xb2i\\xc2\\xad\\xb3\\x10Q\\xac\\x15]\\xadf\\xccNk^\\xe0\\x1e\\x00\\x8a\\xf4\\x06\\xdd\\x08\\xbe\\xec\\xce?\\x99\\x8f\\xf71\\xa1\\x18\\xcf\\xa3h\\x9f\\xef\\xeb\\x985\\xc30%\\x873nugGMT&\\xa7\\x19<\\xfc\\xf0\\xff\\x00pf\\xa5.\\xe6\\x1f\\xe9a\\x10I\\x86d \\xe7\\x80\\x93n\\x01\\x83\\x90@\\xf7\\xdc{\\xab\\x15\"\\xaeU \\x9b\\xe9}G\\x8f\\xfcV\\xaf~\\xf6PR\\xa63$\\x8c\\xb6W\\xbb\\x16\\xca\\xb6\\xb0\\xb0\\xe5\\xc0\\\\\\xf5\\xbd\\xf5\\xacci\\xc6\\xe3\\xc0\\x8b|\\xebw\\xd9\\xdbV\\x9e)<\\xfa\\x94\\xaf\\x8bSy\\x13\\x9diSs\\x0e\\xb4\\xaa\\xf0\\x93a\\x89\\xc7\\x02X\\x92\\t\\xb7!\\xa0\\x00\\x80\\x00\\xf0\\x02\\xc0\\x0e\\x82\\x87K\\x8e\\xe8=j>\\xc9\\x81u:\\x10\\x08\\xf8\\x8dt\\xe5M\\x10\\n\\xaf\\x8c\\x0fr#\\x97\\x14\\xc7\\x9f\\xa5W3\\xba\\x10\\xca\\xcc\\xad{\\x06\\x04\\x83\\xae\\x87QW\\x84\\x02\\xa0\\xc4G\\xdfA\\xe6}(\\xe3\\x80\\x1b\\x19\\x16>Q8\\x9892)\\xb8cf7Q\\x94q\\xf0\\xd2\\x8dc\\xb7\\xcf\\x16\\xf1\\x98\\xdf!\\r`\\x18)\\x05O]\\r\\x8d\\x00\\xc1\\xeb\\x9d\\xbd=\\xfa\\x9a%6\\xc4\\x97\\xbb}5\\xbf2\\x05\\xba\\x9f\\xd2\\xf4MG<\\x82\\x13\\x92Y\\xbfg\\xad\\xfd\\x90\\xd9\\xce\\x97\\xe2\\xec\\x05\\xfc,\\xd7\\xac\\xd66fa\\xa9\\xadZ\\xef+\\xfdU\\xb0\\xeb\\x12\\x85\\xec\\x82\\x1e\\x04\\x91l\\xb9\\x89\\xcb{\\xf3\\xfc\\xeb#\\x8a\\xbd\\xaavm\\x07~x&\\x84\\xf7G\\x90\\xa7\\x14\\xbdv\\x08\\xbb\\xa3\\xc8T\\x9d\\x95G\\x01rA\\xb3p\\xec\\xe1U\\x01fc`\\x06\\xa4\\x9b\\x9eU\\xb2\\xd8\\xff\\x00Fx\\xccA\\x02F\\x8e\\x00E\\xc6v\\x0c\\xe4uTSc\\xfd@\\x8eb\\xb3\\xbb\\x01\\nO\\t\\x07\\x84\\xb1\\x83\\xe4\\xcc\\x03\\x0b\\xf8\\x82}k\\xd2\\xa7P.\\x016\\xbd\\xce\\xa4\\x03n\\xb6\\xe3U\\xb5\\x1a\\x87T\\x92\\xf9\\x8e\\xa6\\xa54\\xca_\\xf8.\\x07\\t\\xa3\\x914\\xb7\\xd0\\xca\\xc3(\\x19oq\\x1a\\xf7O=\\x1b7\\n\\x9f\\xff\\x00 \\xda\\x08\\xaa\\x9b?\\x0e\\xad\\x1ai\\x9d\\x16\\x12.\\x06\\xabea{u\\xa86\\xc6\\xdc\\x950\\xb3\\xf7\\x899YS@r\\xdd=\\xab\\x1d\\t\\xbf>#\\xe1W\\xb6~\\xf5\\x1c41\\xa1\\x821\\x12*\\xaa\\xb2=\\xd0\\x80-\\xa1\\x0b\\xc7\\xc0\\xebIz\\x87\\xb14\\xb2\\xf3\\xdcj\\xa9n\\xeaQ\\xc4\\xefV1\\xff\\x00\\xcele\\x9c\\xe8\\x0bv\\x12\\x06 \\\\\\x8e\\xfa\\x87\\xb5\\xaem\\xe7W\\xa0\\xdf\\xdck\\xa1\\x87\\x0b\\x818\\x7f\\xf5q\\x12\\xcc\\xeb\\x10\\xe7e\\x95\\x06m8\\x01p:\\x1a\\xb6\\xdb\\xe5\\xdaeT\\xb23\\x82@\\xd4\\x93ck)#\\x8f\\x85\\xaf\\xadS\\xc5H\\xc5X\\xb3\\x16k\\x8c\\xc6\\xf7\\xe3~\\xef\\xeb\\xe7K\\x9e\\xb6K\\xf9y\\x0e:t\\xfb\\x940g\\xb1\\x90\\xce\\xd2\\xc9\\x88\\xc4\\x90A\\x9aBr\\xa8<V4\\xe0\\xa3O\\xf8\\xaa{Ki<\\x86\\xee\\xc4\\xfc\\x87\\x90\\xe5\\\\\\xc6\\xcd`hB\\x89f\\'\\xb3[\\x8e\\x05\\xcf\\xb3\\xa7N\\xb5])X\\xf7I\\x8dx\\x8a\\xc2\\x1d,\\xe2\\xa8O\\x8f\\x00^\\x8ea\\xb7w\\xff\\x00\\xd33\\x1fA\\xe8)\\xbbsw\\xa3\\x18i\\xa5\\nT\\xa2\\x13\\xa1:\\x91\\xd4\\x1eT\\xfa\\xe5^\\xe4\\x85\\xcbv2y\\xea\\xa9f\\x00\\x02Y\\x8d\\x80\\x02\\xe4\\x93\\xc0\\x005$\\xf4\\xaf`\\xfa?\\xfa\"-\\x97\\x11\\xb4\\x01Q\\xc5p\\xc0\\xd9\\x8fC3\\x0fds\\xca\\r\\xfa\\x91\\xa8\\xa9\\xbe\\x8dv~\\x1b\\x05\\x12b\\x18#\\xcf*+\\xe7m\\x1a4u\\x07\"j@\\xe2u\\x02\\xe6\\xb7\\x10oLr6P\\x8e\\x7f\\x88X\\x8f=m\\xa5_\\x95\\xe9<\"\\xacio\\x96wk\\xcap\\xf9R\\x0bF\\x8a\\xc0\\x05E\\x01\\x02\\xdb\\x80\\x16\\xb0\\xd7\\xa5@\\x9b\\xc5:\\xd8\\x12\\x8d\\xec\\xeaG[\\xf3\\x07\\xc2\\x9d\\xb41q\\xc8\\xb9\\x96E\\x16<X8\\xd7\\xa5\\xd6\\x84\\xbcX\\x85?\\xe1\\xc3.\\x97\\xee\\xcc\\xa1\\xad~ :\\xfetQ\\xba\\x0f\\xa9\\xce\\xb6\\x83\\xf1\\xef-\\xc8\\xcd\\x16\\x9c.\\r\\x8f>^tC\\x0b\\xb5\\xa2qp\\x08\\xe5\\xca\\xe0\\xe9\\xfa\\xd7\\x98o&\\xf5\\x8c\\x18\\xc8\\xf8y\\x04\\xa4\\x12\\xa8\\xe5B\\xf81df\\xb8\\xbfN6\\xaf6\\xda[{\\x11=\\xc4\\x92\\xb1RI\\xec\\xc1\\xb2\\x0f\\xe5\\xe1\\xebN\\x9du5\\xc2\\x03-3\\xe8-\\xb7\\xb7p\\xcf\\xf6?Y\\x88.\\x85\\xee\\xe9r\\x01\\xbeB\\t\\xe7k{\\xe8K@\\x10\\x99p\\xc2\\x08\\xd9\\x8d\\xc3\\xc6\\xabg\\xb7\\xdd\\x97!\\x19\\xd7^z\\x8b\\xdcX\\xd7\\x82\\xc75\\xb8zQ\\x1d\\x9f\\xb7\\xe4\\x84\\xde6+\\xe1\\xcb\\xde9\\x8a\\xa1~\\x9aR^\\xe3\\xc0\\xea\\xed\\x8a\\xea\\x8fx\\xc0m\\xf6\\x91\\x034j\\x0e\\xa1\\x96\\xe6\\xea\\xcaJ\\xb2\\x9d8\\x82\\x08\\xf1\\xe3C\\xf7\\x9fn,p\\x96\\x08\\x15\\xc9\\x01N\\x97\\xbf\\x9d\\xb8V\\x17v7\\xe1s\\xb8\\xc4Xv\\x8c\\x1b:\\xe8\\x03eT7^W\\n8x\\xf5\\xa87\\xdbj\\xf6\\x96 \\xe8M\\x93\\xf0\\xf5\\xf9Vc\\xd3\\xdd\\xe2\\xec\\x9fB\\xda\\xb2\\x1b7!\\x9b\\x12L\\xe0\\xb3\\xb1\\xef1,y\\xd9\\x89\\xad\\x1bl\\x98\\x8f\\t\\x7f\\xa9\\x01\\xfc\\xc5b6v.\\xca\\x10p\\x1cz\\xd1h\\xf6\\x89\\x1c\\xe9z\\xaa\\xac\\xdf\\x98\\xbc\\x05\\t\\xfb\\xa1\\t\\xf6L!\\x88-\\x0f\\xbe=iVch\\xe3\\x98\\xc8\\xc6\\xfd>B\\x95X\\x86\\x9e\\xd7\\x14\\xf7\\xb1N\\xeez\\x11\\xacY\\xa3\\r\\xcdFF\\xf1\\x1cco\\x1d\\x01_\\xe4\\x1dj$\\x86\\xb5\\xdb\\x0fq\\xa5\\xc9\\x9eI\\x16$u6B\\x0b9\\x17\\xe3\\xd9\\x8e\\x1c\\x01\\xd4\\xdf\\xc2\\xad\\x1d\\xca1dp$\\xc4\\xa9\\x91A\\x8b\\xb3h\\xc9[\\x12I79WKf\\xd3\\x88\\xad7ls\\x8c\\x95\\xbc9c&<Cj\\x8d\\xa3\\x06\\xe4\\x11\\xc0\\xdb\\x87J\\xf5\\x0cv\\xe9\\xe1\\x1c\\x00\\x00\\x89\\xbb\\xab\\xddQ\\x90u\\xbd\\x8fy\\x8f\\x0b\\xfb\\xeb\\x03\\xf4\\x83\\xb1N\\x1b\\x10\\x02\\xc5/e\\x91r\\xcaF`\\xe6\\xd7k\\x10,5k[N\\x15\\xd5\\xd8\\xa5,\\x1188\\xa0^\\xefl\\x97\\x92?\\xba\\xb7\\'3;**\\xf2\\xbb\\x16>\\x15\\xe9\\xfb\\x07e\\xe0%%Rx\\xa4eRJv\\xaa\\xd7\\x02\\xde\\xca\\xad\\x8f>f\\xbcg\\xebaN\\x84\\x0f\\x03\\xa5j~\\x8e\\xc9\\x9f\\x1b\\x18k\\x14PY\\xbb\\xa1\\xac\\x14\\xe6[\\x1f\\xbaK\\xaa\\x8b\\xf4\\xb8\\xe7Gtq\\x17\\'\\xd1\\x01[\\xcbI\\x1e\\x8f\\x81\\xdc\\x8c\\n\\x1e\\xd0@\\xc4\\x9dB3\\xb1E\\xe6\\x01C{\\x8f\\xe1&\\xd5\\xdd\\xa1\\xb8[>q\\xde\\x83!\\xeb\\x13\\xb2[\\xc9A\\xcb\\xf0\\xadX\\xb5\"+\"Z\\x8b\\x1b\\xceM\\x05L\\x12\\xc6\\x0f=\\xc4}\\x16\\xc5kE\\x88u\\xf0\\x91\\x15\\xfe+\\x96\\x82\\xe3~\\x8dq\\x8b\\xfe\\x1bC\\'\\xf32\\x1fB\\xb6\\xf8\\xd7\\xa7b\\xf6\\x9cq\\xe9{\\x9e\\x83\\xf34\\x1b\\x15\\xb4\\xdeM/e\\xe8?>\\xb4q\\xd5\\xda\\xbb\\x83-<\\x1fc\\xc8\\x97f\\xcd\\x06*8\\xa5\\x00:\\xcb\\x15\\xecU\\x96\\xc5\\x94\\xe8E\\xebw\\x8c\\x93\\xbc\\xe3\\xc4\\xd0-\\xaf\\x1d\\xf1\\xea\\x7f\\xd4\\x87\\xe0R\\x8db\\xc7x\\xd3u2\\xde\\xa2\\xd8\\xba#\\xb5\\xc9\\x14\\x04bU\\x963\\xc3\\xba~`\\xfc\\x85\\x0f\\xc2\\xc0\\xf0\\xa9\\x0b\\x9b\\xbb\\xa3\\xa8&\\xf6\\xea/\\xc4x\\x1a\\xb7\\xb3\\xa5\\xfbg\\x1c\\xca\\x1b\\x0f\\x10\\xcb\\xf9^\\xad\\x86\\xccC\\xa8\\xfbE\\x16d6\\xbb\\xa8\\xd3K\\xf1<\\xfd\\xf4\\x9d\\xee+\\x03\\xb6\\xa6E\\xb2\\xdc\\x01q\\x96\\xd7$\\x10\\xaa,H\\x00\\xf0\\x1ah(\\x96)\\xb2\\xc5ng1>\\x96\\xb7\\xc8{\\xaa\\xa6t\\x06\\xe0\\x1c\\xe4\\xea\\nd\\xcb\\xee\\xeb\\xebM\\xc7HJ\\x91\\xd1O\\xaf\\xfd\\xf9U{%\\xbaC\\xa3\\x1c \\x0e\\xd4\\x98\\x95kt?+\\xd63\\x07\\xb4&\\x8a\\xdd\\x9c\\xae\\x9e\\x01\\x8d\\xbd8V\\xb3\\x1ato\\xc2\\xdf#Y\\x0c\\x9d\\xd0|+_H\\x96\\xd6\\x8c\\xfdCyF\\x93\\x01\\xbf\\xb8\\xd8\\xfd\\xa3\\x1c\\xa3\\xa3\\xa0\\xbf\\xaa\\xda\\x8e\\xed=\\xf9i0\\x92G6\\r\\xe3\\xed\\xa2u\\x8eA~\\xcd\\x8b)\\xb1\\x19\\x80\\xd3\\x9e\\x84\\xd0M\\xd6\\xdcy\\xf1\\xb6s\\xf6P\\x1f\\xfd\\x8c5q\\xfe\\x9a\\xf3\\xf3:y\\xd6\\xa7|\\x1d\\xfb.\\xcb\"\\xcf\\x1e\\x11\\xd1\\xccl\\xe7X\\xa3G@\\xce\\x05\\xad\\xde\\xd2\\xc3\\x8f\\x95t\\xe3V\\xf4\\xa2\\x96s\\xcfl\\x11\\x17=\\xad\\xb6svv\\xe4O\\x85\\x8b\\xb4\\x88\\xfd\\x9a,W\\x07\\x88\\x8c\\x05\\xb9\\x1aq\\xb1\\xadz\\xcb\\x19@\\x15\\xfb;\\xd9\\x81\\xb7#\\xd6\\xb2[\\x9b$m\\x84lL\\xa8\\x99\\x9aY;\\xaa\\xa0*\\xeb\\xa2\\xa2\\r\\x05ip\\xd3;\\xad\\xdb\\x0c\\x08\\xf1e\\xcfo\">\\x14\\xb9-\\xb3k\\x8f\\xef\\xd0t^b\\x98\\xf9\\xe1\\xc9\\x87 0{6bGJ~\\xd3\\xda\\x11\\xc2\\xa3\\x14u\\x8c!\\x06\\xdcz\\xaf\\xa9\\xd2\\x98\\xae\\xab\\xf6\\xb1\\x03\\x97\\x84\\x91\\x9e#\\xcc\\x1e\\x04VG\\xe9\\x1eS\\x1c\\n\\x91\\xb7\\xd8\\xcc\\xf7\\xb7B\\xba\\xe5\\xf2\\xbd\\xbd*kY\\x92K\\xe9\\xf9w:o\\x11o\\xd4\\xc3\\xed\\xdd\\xaa\\xf8\\xa9\\x9eg\\xd31\\xd1x\\x85Q\\xa0Q\\xe4(~jk\\x9am\\xeb@\\xa1\\x92t\"\\x9eUH\\xf1\\xaa\\xd7\\xae\\xf6\\x95\\xc4\\x8f](\\xd6\\xc5\\x9c\\xbb*\\x1dm|\\xa0\\xf2\\xbf\\x1bzPEz\\x929\\x08\\xe1\\xa7\\x88\\xe3A8nX&2\\xda\\xf2zF\\xcf\\xc2\\x80\\xc32\\x82/\\xc0\\x8b\\x8f\\x8dh\\xa4\\xd8\\xf89\\x05\\xfb \\x0fT%~\\x00\\xdb\\xe1^C\\x86\\xdb\\x98\\xb56Y\\\\\\xeb`\\x0f{\\xdd\\xad\\x1b\\xd9\\xfb\\xcb\\x8f-\\x93\\xb0\\xce\\xc3\\x97f\\xca}\\xfc\\x00\\xac=O\\xb3n\\x94\\xb7Fx\\xfb\\xf0]\\x86\\xa2\\x0f\\xb0\\xb7\\x93\\x05\\x0cx\\x99\\x11KXe\\xb5\\xc8\\xbe\\xa8\\xa7\\xa7\\x8dv\\xa9\\xed}\\xa8\\xe6V2\\xe1\\xf2\\xbfw2\\x93\\xc3\\xba-\\xf0\\xb5*\\xd1\\xaa\\xb9(E7\\xd9w\\x11)G,\\xf6l\\x08\\x89t\\x8aG\\x9a\\xd7\\xce.\\xa5\\xd3\\x9fx3\\xe6\\xb7.\\xb6\\x14[\\r\\xb5\\xa3\\xec\\xf2\\xa2;\\xc8\\xdcm`\\xa3\\xf11\\xba\\xfb\\xb5>\\x15\\xdcV\\xcc\\x85\\xc8f\\x8d\\x18\\x8e\\x04\\xa8$y\\x13S$@p\\x15\\x9c\\xf5-<\\xc5\\x17UI\\xac6\\x08\\x8bfJ\\xc74\\x8f\\x97]\\x02q\\x03\\xa7ik\\xfb\\xd7-\\x13\\xc3\\xe1\\x11\\x05\\x95x\\xf1\\xe6I\\xeaI\\xd4\\x9f:\\x9e\\xd5\\xdaCr\\x97V3\\x8e\\xc5\\x13\\x84G=\\xe8R\\xdf\\xc5\\x94\\xb5\\xfc\\x80\\xb5\\xbd\\xf5,8\\x18\\xd3\\xd9E_ \\x07\\xca\\xabcv\\xd4Q\\xe8\\x0ef\\xe88z\\xd0\\x0cf\\xd6\\x92M/e\\xe84\\xf5\\xebP\\xf9%#A\\x8b\\xda\\xd1\\xc7\\xa5\\xf37E\\xfc\\xcf*\\x0b\\x8c\\xda\\xd2I\\xa5\\xf2\\xafA\\xf9\\x9et(=<\\xb5OBpJ\\x1a\\x91z\\x885g\\xb7\\xd3jvP\\x84S\\xde\\x90\\xdb\\xf9\\x00\\xbbz\\xe8=\\xf4\\xca\\xa0\\xec\\x9a\\x8a\\x02\\xc9(E\\xc9\\x99\\xdd\\xe5\\xc7\\t&fR4\\xb5\\xad\\xc4\\x81\\xa0$\\xf8\\xfe\\x95\\x9d\\x93\\x16\\xda\\x8b\\x91\\xe4N\\x86\\xa2Y\\x0ek\\x9e\\x7f\\x9ds\\x11^\\x820QI#%\\xc9\\xb7\\x90\\x86\\xca\\xdaO\\x13\\x89\\x06\\xa4\\\\0\\xfd\\xe5<G\\xe8z\\x81^\\x87\\x1c\\t\\x89EpH:\\x10\\xcb\\xa1\\xd4W\\x94\\xab\\xd8\\xf9\\xd6\\xa7`mQ\\x1c\\x17$\\xf7Y\\x80\\xf1\\xfb\\xc0\\x7f\\xba\\xa9\\xebirJQ\\xeaY\\xd3X\\xa2\\xda\\x97CR\\xdd\\x8c/\\x90\\xb8\\xed\\x0e\\xa1I\\xd7\\x9e\\xbf\\x03\\xe7jC[\\xdf\\xa1\\xf8\\xd6\\x1fe\\xe3{\\\\r\\xc8\\xfa\\x96f<x\\x12\\x8dop\\xd0\\n\\xdb\\xa3q\\xac\\xedE\\x1e\\x13I\\xbc\\xbc\\x16\\xea\\xb3\\xc4M\\x99\\x8ct\\xa3+\\x91\\xc0#|E\\x03\\xc0\\xe2\\x92\\'\\x89\\x9e!*\\xad\\x8bFM\\x83\\xd8h\\x18\\x8eW\\xb1\\xf1\\xb5\\xb8\\x1a)\\x8c\\x1d\\xd9.z\\x8f3\\xa8\\xa02&\\xaa+V\\x88\\xad\\xb8(\\xda\\xf9=wc\\xfd\\'\\xe1ed\\x89\\xa0\\x922\\xc5T[+-\\xc9\\x00\\x0eF\\xda\\x8eU\\xdd\\x9eT\\xe3\\xb1\\x00\\xb2\\xdaH\\xf9\\xda\\xd6\\xbb\\x03\\x9a\\xfa[\\xbb\\xcf\\xa5y\\x96\\xc7\\x80\\x89\\x91\\xd27r\\x841T\\xbd\\xf9\\xd8\\xdc\\x03mu\\x1eU\\xaf}\\xb2\\xabp\\xc9>s\\x1eR\\xae\\x02\\x82\\x0f\\xb4\\t<x\\x9b\\xda\\xf4Q\\xd3C\\x9d\\xaf\\x19\\x06W\\xc95\\x94\\x1cM\\x96\\xb81\\x14@\\x82\\x86vqkXg\\x1d\\xd1\\xa7+\\x83j*\\x93\\xce\\xce\\xc2<\\xaa\\xabkf\\x07\\xbeN\\xba\\x1e\\x95\\x8b\\xdc\\xc4\\xcd\\x82\\xec\\xda\\xff\\x00\\xe2=\\x8fKe\\xb1_\"+M\\x86\\xc4\\xce\\xa0\\xad\\x95\\x8f\\'\\xbd\\xbd\\xe5j\\x94\\x9b\\x8c\\xdal\\xb5\\x1cJ)\\xa4_\\x18\\xa0rN\\x05\\xb3\\x1c\\x92\\xaf\\x99\\xb6\\xbdli\\xf8\\xed\\xdf\\x82e\\xca\\xe0\\x90\\x1b:\\x8b\\xe8\\xa6\\xd6\\xd0t\\xa1\\x13b\\x16(\\xd2\"\\xc2\\xe5\\x83;t\\x17\\xccM\\x19\\x83kD\\xc6\\xc1\\xc5\\xfa\\x1d>tuMg/\\xa9\\xd6E\\xe3\\x8e\\x87\\x92on\\xc1\\xfa\\xb4\\xac\\x05\\xca\\xdf\\x8f\\x9d\\x01\\xc9^\\xab\\xbd\\xd1\\xe6\\x97U\\x05YE\\xbc\\xc7\\x1f\\xca\\xb0\\xdb[e\\xe4\\x19\\x97\\x871\\xd2\\xafB\\xc4\\xca\\xb3\\xa5\\xaeP\\x04\\x8am\\x17\\xc2l\\xd5e\\xbb\\x16\\x00\\x9b\\x02\\xa0\\x1bx\\x9f\\n\\xaf\\x8e\\xd9\\xad\\x1b\\x11\\xc7\\x98#\\x98\\xebG\\xb9g\\x00xr\\xdb\\xbb\\xb1D\\n\\x95\\rGj\\xe84@\\x16\"b\\xae\\x18r \\xfaT\\xf0\\xed\\x99\\x16s5\\xf5&\\xec\\xa2\\xf9N\\x80[\\xd0Ql\\x16\\xe9c%\\x8d$\\x8a\\x1c\\xe1\\xaf~\\xf2\\xae[r!\\x98q\\xf0\\xa8_r6\\x80\\xb9\\xfa\\xb3\\x15\\x17\\xd44l?\\xda\\xc6\\x92\\xd4\\x1b{\\x83[\\x92\\xe0\\xb5\\x8e\\x8f\\r\\x89s9\\x99T\\xb8[\\xa9$\\x10B\\x85\\xd7\\xd2\\xb9@\\xa4\\xd9\\x93)*Q\\xc1\\x1cAR\\x08\\xf7\\x1aT\\n\\xb4\\x96\\x14\\xb8\\x0f{}b}DEr\\xd4\\xa9V\\x01\\xa6v\\xd5\\x9f\\xde\\xa9\\x08\\n\\x01 \\x1e\"\\xfa\\x1f:T\\xaa\\x1f@\\xa3\\xd4\\xcc\\x0e5/*T\\xaa{\\x04\\xc8\\x05J+\\x94\\xab\\x99\\x03\\xab\\x05\\xf4\\x88~\\xda/\\xc0\\xdf\\xdc)R\\xabz\\x0f\\x8c\\xbe\\xf2\\xbe\\xaf\\xe1?\\xb8\\xc8\\x1e4\\xfcE*U\\xbae\\x90\\x9a\\xb2}\\x91\\xef\\xaeR\\xa8g\\x13\\xec_\\xf3\\x11~5\\xafB\\xe5J\\x95ek\\xfc\\xd1\\xf444~W\\xeac\\xf6\\xd1\\xfbC\\xf8\\xa4\\xf9\\xd0\\x99\\xbd\\xa5\\xa5J\\xafS\\xe5E[|\\xcc\\xf4o\\xa3\\xcd0\\xecG\\x1e\\xdaM|\\xa2B=\\rM\\xbcS3\\xe1\\xe5\\xce\\xc5\\xb2\\xcc\\xb9s\\x12r\\xea\\xc3K\\xf0\\xa5J\\x92\\xbe#\\xf5\\r\\xfc!\\x9b\\xbe\\x80aa\\xb0\\x02\\xeaI\\xb73~&\\x8b\\xa1\\xe3J\\x95W\\xbf\\xe2\\xb2t_\\x05z\\xbf\\xd5\\x82w}CH\\xc5\\xb56\\xbd\\xce\\xa6\\xf7\\xe3\\xad\\x1f\\xc6\\xc6\\n5\\xc0:\\x1e\"\\xf4\\xa9R\\xe1\\xe5e\\xbb<\\xe8\\x17\\x11\\xbe\\x19I\\xd4\\x87\\x16\\xbe\\xb6\\xd6\\xdaP}\\xb0\\xa2\\xdc\\x07\\nT\\xaa\\xce\\x9c\\x8b:?\\xbc\\x0c\\x05\\xa1{~\\xe9\\xaa\\x93\\x9b\\xc7\\t=+\\xb4\\xaa\\xd2\\xea\\'\\xf9_\\xa0\\x1b\\x18;\\xc7\\xce\\xacl%\\x06aq\\x7f?*\\xed*yK\\xb9\\xed\\xdb\\xbb\\xfe\\x18\\xac\\xc7hSjeBT2\\x92\\xc1M\\x83\\x1e\\xac\\x07\\x13\\xe7J\\x95W\\xb3\\xab\\xf4..\\x88\\xf4(\\xb8\\nT\\xa9UQ\\xa7\\xff\\xd9'}"
            ]
          },
          "metadata": {
            "tags": []
          },
          "execution_count": 266
        }
      ]
    },
    {
      "cell_type": "code",
      "metadata": {
        "id": "3_Fg8Ja6pLeQ",
        "colab_type": "code",
        "colab": {
          "base_uri": "https://localhost:8080/",
          "height": 34
        },
        "outputId": "58c7100a-6b1d-419b-d769-8b6f819bfff9"
      },
      "source": [
        "!ls"
      ],
      "execution_count": 267,
      "outputs": [
        {
          "output_type": "stream",
          "text": [
            "model01.model  office.jpeg  sample_data  x_test.pickle\n"
          ],
          "name": "stdout"
        }
      ]
    }
  ]
}